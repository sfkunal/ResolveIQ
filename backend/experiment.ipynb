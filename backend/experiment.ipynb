{
 "cells": [
  {
   "cell_type": "code",
   "execution_count": 27,
   "metadata": {},
   "outputs": [
    {
     "name": "stdout",
     "output_type": "stream",
     "text": [
      "Title: Auto Assignment Not Working\n",
      "Description: I haven't received any auto assignments for the past 2 hours. I've checked my status and I'm set as 'Available'. My queue is empty but I know there are cases in the general pool. Please help troubleshoot why I'm not getting assignments.\n"
     ]
    }
   ],
   "source": [
    "import json\n",
    "\n",
    "def get_tickets():\n",
    "    with open('support_tickets.json', 'r') as file:\n",
    "        data = json.load(file)\n",
    "    return data\n",
    "\n",
    "def get_ticket(index):\n",
    "    with open('support_tickets.json', 'r') as file:\n",
    "        data = json.load(file)\n",
    "    return data['tickets'][index]\n",
    "\n",
    "def stringify_ticket(ticket):\n",
    "    return f\"Title: {ticket['title']}\\nDescription: {ticket['description']}\"\n",
    "\n",
    "ticket = get_ticket(0)\n",
    "print(stringify_ticket(ticket))\n"
   ]
  },
  {
   "cell_type": "code",
   "execution_count": 33,
   "metadata": {},
   "outputs": [],
   "source": [
    "from langchain_text_splitters import RecursiveCharacterTextSplitter\n",
    "from langchain_community.vectorstores import FAISS\n",
    "from langchain_community.embeddings import OllamaEmbeddings\n",
    "import markdown\n",
    "\n",
    "def load_knowledge_base():\n",
    "    with open('knowledge_wiki.md', 'r') as file:\n",
    "        kb_content = file.read()\n",
    "    \n",
    "    kb_text = markdown.markdown(kb_content)\n",
    "    text_splitter = RecursiveCharacterTextSplitter(\n",
    "        chunk_size=1000,\n",
    "        chunk_overlap=50,\n",
    "        length_function=len,\n",
    "    )\n",
    "    \n",
    "    chunks = text_splitter.split_text(kb_text)\n",
    "    embeddings = OllamaEmbeddings(model=\"llama3.2:1b\")\n",
    "    vectorstore = FAISS.from_texts(chunks, embeddings)\n",
    "    return vectorstore\n",
    "\n",
    "\n",
    "def find_relevant_knowledge(ticket_string, top_k=3):\n",
    "    vectorstore = load_knowledge_base()\n",
    "    relevant_chunks = vectorstore.similarity_search(ticket_string, k=top_k)\n",
    "    return [doc.page_content for doc in relevant_chunks]"
   ]
  },
  {
   "cell_type": "code",
   "execution_count": 34,
   "metadata": {},
   "outputs": [
    {
     "name": "stdout",
     "output_type": "stream",
     "text": [
      "\n",
      "Relevant knowledge base sections:\n",
      "\n",
      "Chunk 1:\n",
      "<h3><strong>Troubleshooting Auto Assignment Issues</strong></h3>\n",
      "<p>If you are not receiving auto assignments despite being marked as \"Available,\" follow these steps:\n",
      "1. <strong>Verify System Status:</strong> Check for ongoing outages or maintenance in the assignment system.\n",
      "2. <strong>Check Queue Configuration:</strong> Ensure your queue is properly configured and there are no conflicting filters.\n",
      "3. <strong>Manually Refresh Status:</strong> Toggle your availability off and on again.\n",
      "4. <strong>Contact Support:</strong> If the issue persists, reach out to the system administrator for further investigation.</p>\n",
      "<hr />\n",
      "<h3><strong>Blocking Cases from Specific Regions</strong></h3>\n",
      "<p>If you need to restrict cases from a particular region:\n",
      "1. <strong>Access Your Assignment Rules:</strong> Navigate to your settings and find the \"Case Assignment Preferences\" section.\n",
      "2. <strong>Modify Region Filters:</strong> Select the regions you wish to exclude.\n",
      "\n",
      "Chunk 2:\n",
      "4. <strong>Follow the Instructions and Set a New Password.</strong></p>\n",
      "<hr />\n",
      "<h3><strong>Resolving VPN Connectivity Issues</strong></h3>\n",
      "<p>If you cannot connect to the company VPN:\n",
      "1. <strong>Restart Your Device and Network.</strong>\n",
      "2. <strong>Verify VPN Credentials.</strong>\n",
      "3. <strong>Check for Firewall Restrictions.</strong>\n",
      "4. <strong>Contact IT Support If Issue Persists.</strong></p>\n",
      "<hr />\n",
      "<h3><strong>Fixing Email Sync Problems</strong></h3>\n",
      "<p>For email synchronization issues:\n",
      "1. <strong>Check Internet Connectivity.</strong>\n",
      "2. <strong>Ensure Correct Account Credentials.</strong>\n",
      "3. <strong>Restart Email Client.</strong>\n",
      "4. <strong>Verify Server Settings.</strong>\n",
      "5. <strong>Clear Cache and Try Again.</strong></p>\n",
      "<hr />\n",
      "<h3><strong>Handling Duplicate Case Entries</strong></h3>\n",
      "<p>To merge duplicate cases:\n",
      "1. <strong>Identify Similar Cases.</strong>\n",
      "2. <strong>Use the \"Merge Cases\" Function.</strong>\n",
      "3. <strong>Verify and Resolve Any Conflicts.</strong>\n",
      "\n",
      "Chunk 3:\n",
      "3. <strong>Save and Confirm:</strong> Apply the changes and verify by simulating an assignment.\n",
      "4. <strong>Escalate If Necessary:</strong> If the system does not honor these changes, report the issue to IT support.</p>\n",
      "<hr />\n",
      "<h3><strong>Updating Time Zone Settings</strong></h3>\n",
      "<p>To update your working hours and reflect the correct time zone:\n",
      "1. <strong>Go to Profile Settings:</strong> Locate the \"Time Zone\" section.\n",
      "2. <strong>Select the Correct Time Zone:</strong> Choose your current time zone from the dropdown.\n",
      "3. <strong>Verify Your Schedule:</strong> Ensure that your work hours align with the new time zone.\n",
      "4. <strong>Save Changes:</strong> Refresh the system and test by checking availability.</p>\n",
      "<hr />\n",
      "<h3><strong>Resetting Password for Secure Access</strong></h3>\n",
      "<p>If you forgot your password:\n",
      "1. <strong>Click \"Forgot Password\"</strong> on the login screen.\n",
      "2. <strong>Enter Your Registered Email.</strong>\n",
      "3. <strong>Check Your Email for a Reset Link.</strong>\n"
     ]
    }
   ],
   "source": [
    "ticket = get_ticket(0)\n",
    "ticket_string = stringify_ticket(ticket)\n",
    "relevant_knowledge = find_relevant_knowledge(ticket_string)\n",
    "print(\"\\nRelevant knowledge base sections:\")\n",
    "for i, chunk in enumerate(relevant_knowledge, 1):\n",
    "    print(f\"\\nChunk {i}:\")\n",
    "    print(chunk)"
   ]
  },
  {
   "cell_type": "code",
   "execution_count": 6,
   "metadata": {},
   "outputs": [
    {
     "name": "stdout",
     "output_type": "stream",
     "text": [
      "The capital of France is Paris.\n"
     ]
    }
   ],
   "source": [
    "from langchain_community.llms import Ollama\n",
    "\n",
    "llm = Ollama(model=\"llama3.2:1b\")\n",
    "\n",
    "response = llm.invoke(\"What is the capital of France?\")\n",
    "print(response)\n"
   ]
  },
  {
   "cell_type": "code",
   "execution_count": 8,
   "metadata": {},
   "outputs": [
    {
     "name": "stdout",
     "output_type": "stream",
     "text": [
      "A programmer walked into a library and asked the librarian, \"Do you have any books on Pavlov's dogs and Schrödinger's cat?\" The librarian replied, \"It rings a bell, but I'm not sure if it's here or not.\"\n"
     ]
    }
   ],
   "source": [
    "from langchain_community.chat_models import ChatOllama\n",
    "from langchain_core.messages import HumanMessage, SystemMessage\n",
    "\n",
    "chat_model = ChatOllama(model=\"llama3.2:1b\")\n",
    "\n",
    "messages = [\n",
    "    SystemMessage(content=\"You are a helpful AI assistant.\"),\n",
    "    HumanMessage(content=\"Tell me a short joke about programming.\")\n",
    "]\n",
    "\n",
    "response = chat_model.invoke(messages)\n",
    "print(response.content)"
   ]
  },
  {
   "cell_type": "code",
   "execution_count": null,
   "metadata": {},
   "outputs": [],
   "source": []
  }
 ],
 "metadata": {
  "kernelspec": {
   "display_name": "base",
   "language": "python",
   "name": "python3"
  },
  "language_info": {
   "codemirror_mode": {
    "name": "ipython",
    "version": 3
   },
   "file_extension": ".py",
   "mimetype": "text/x-python",
   "name": "python",
   "nbconvert_exporter": "python",
   "pygments_lexer": "ipython3",
   "version": "3.11.5"
  }
 },
 "nbformat": 4,
 "nbformat_minor": 2
}
