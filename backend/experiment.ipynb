{
 "cells": [
  {
   "cell_type": "code",
   "execution_count": 1,
   "metadata": {},
   "outputs": [
    {
     "name": "stdout",
     "output_type": "stream",
     "text": [
      "Title: Request to Block Cases from Specific Region\n",
      "Description: I need to stop receiving cases from the APAC region as I don't have the language capabilities to handle them effectively. Is there a way to update my assignment rules to exclude these cases?\n"
     ]
    }
   ],
   "source": [
    "import json\n",
    "\n",
    "def get_tickets():\n",
    "    with open('support_tickets.json', 'r') as file:\n",
    "        data = json.load(file)\n",
    "    return data\n",
    "\n",
    "def get_ticket(index):\n",
    "    with open('support_tickets.json', 'r') as file:\n",
    "        data = json.load(file)\n",
    "    return data['tickets'][index]\n",
    "\n",
    "def stringify_ticket(ticket):\n",
    "    return f\"Title: {ticket['title']}\\nDescription: {ticket['description']}\"\n",
    "\n",
    "ticket = get_ticket(1)\n",
    "print(stringify_ticket(ticket))\n"
   ]
  },
  {
   "cell_type": "code",
   "execution_count": 59,
   "metadata": {},
   "outputs": [],
   "source": [
    "from langchain_text_splitters import RecursiveCharacterTextSplitter\n",
    "from langchain_community.vectorstores import FAISS\n",
    "from langchain_ollama import OllamaEmbeddings\n",
    "from langchain_community.embeddings import HuggingFaceEmbeddings\n",
    "import markdown\n",
    "\n",
    "\n",
    "def load_knowledge_base():\n",
    "    with open('knowledge_wiki.md', 'r') as file:\n",
    "        kb_content = file.read()\n",
    "    \n",
    "    chunks = [chunk.strip() for chunk in kb_content.split('###') if chunk.strip()]\n",
    "    \n",
    "    clean_chunks = []\n",
    "    for chunk in chunks:\n",
    "        html = markdown.markdown(chunk)\n",
    "        clean_text = html.replace('<strong>', '').replace('</strong>', '') \\\n",
    "                        .replace('<p>', '').replace('</p>', '') \\\n",
    "                        .replace('<h3>', '').replace('</h3>', '') \\\n",
    "                        .replace('<ol>', '').replace('</ol>', '') \\\n",
    "                        .replace('<li>', '').replace('</li>', '')\n",
    "        clean_chunks.append(clean_text)\n",
    "    \n",
    "    embeddings = HuggingFaceEmbeddings(model_name=\"sentence-transformers/all-MiniLM-L6-v2\")\n",
    "    vectorstore = FAISS.from_texts(\n",
    "        clean_chunks,\n",
    "        embeddings,\n",
    "        metadatas=[{\"chunk_id\": i, \"source\": \"knowledge_wiki\"} for i in range(len(clean_chunks))]\n",
    "    )\n",
    "    return vectorstore\n",
    "\n",
    "\n",
    "def find_relevant_knowledge(ticket_string, vectorstore, top_k=3):\n",
    "    relevant_chunks = vectorstore.similarity_search(ticket_string, k=top_k)\n",
    "    return [doc.page_content for doc in relevant_chunks]"
   ]
  },
  {
   "cell_type": "code",
   "execution_count": 60,
   "metadata": {},
   "outputs": [],
   "source": [
    "vectorstore = load_knowledge_base()"
   ]
  },
  {
   "cell_type": "code",
   "execution_count": 62,
   "metadata": {},
   "outputs": [
    {
     "name": "stdout",
     "output_type": "stream",
     "text": [
      "Ticket:  Title: Time Zone Update Required\n",
      "Description: I recently relocated to the EST time zone, but my working hours are still showing in PST. Need assistance updating my profile to reflect the correct time zone so my availability is properly tracked.\n",
      "\n",
      "Relevant knowledge base sections:\n",
      "\n",
      "Chunk 1:\n",
      "Updating Time Zone Settings\n",
      "To update your working hours and reflect the correct time zone:\n",
      "1. Go to Profile Settings: Locate the \"Time Zone\" section.\n",
      "2. Select the Correct Time Zone: Choose your current time zone from the dropdown.\n",
      "3. Verify Your Schedule: Ensure that your work hours align with the new time zone.\n",
      "4. Save Changes: Refresh the system and test by checking availability.\n",
      "\n",
      "Chunk 2:\n",
      "Troubleshooting Auto Assignment Issues\n",
      "If you are not receiving auto assignments despite being marked as \"Available,\" follow these steps:\n",
      "1. Verify System Status: Check for ongoing outages or maintenance in the assignment system.\n",
      "2. Check Queue Configuration: Ensure your queue is properly configured and there are no conflicting filters.\n",
      "3. Manually Refresh Status: Toggle your availability off and on again.\n",
      "4. Contact Support: If the issue persists, reach out to the system administrator for further investigation.\n",
      "\n",
      "Chunk 3:\n",
      "Resolving VPN Connectivity Issues\n",
      "If you cannot connect to the company VPN:\n",
      "1. Restart Your Device and Network.\n",
      "2. Verify VPN Credentials.\n",
      "3. Check for Firewall Restrictions.\n",
      "4. Contact IT Support If Issue Persists.\n"
     ]
    }
   ],
   "source": [
    "ticket = get_ticket(2)\n",
    "ticket_string = stringify_ticket(ticket)\n",
    "print(\"Ticket: \", ticket_string)\n",
    "relevant_knowledge = find_relevant_knowledge(ticket_string, vectorstore)\n",
    "print(\"\\nRelevant knowledge base sections:\")\n",
    "for i, chunk in enumerate(relevant_knowledge, 1):\n",
    "    print(f\"\\nChunk {i}:\")\n",
    "    print(chunk)"
   ]
  },
  {
   "cell_type": "code",
   "execution_count": 65,
   "metadata": {},
   "outputs": [
    {
     "name": "stdout",
     "output_type": "stream",
     "text": [
      "I'd be happy to help you update your working hours and reflect the correct time zone in EST (Eastern Standard Time).\n",
      "\n",
      "To start, I'll guide you through the steps:\n",
      "\n",
      "1. Go to Profile Settings\n",
      "2. Locate the \"Time Zone\" section\n",
      "3. Select the Correct Time Zone: Choose your current time zone from the dropdown\n",
      "\n",
      "Let's get started!\n"
     ]
    }
   ],
   "source": [
    "from langchain_community.chat_models import ChatOllama\n",
    "from langchain_core.messages import HumanMessage, SystemMessage\n",
    "\n",
    "chat_model = ChatOllama(model=\"llama3.2:1b\")\n",
    "\n",
    "def generate_response(ticket_string, relevant_knowledge):\n",
    "    messages = [\n",
    "        SystemMessage(content=\"You are a helpful AI assistant. Use the relevant knowledge to solve the ticket.\"),\n",
    "        HumanMessage(content=\"Ticket: \" + ticket_string),\n",
    "        HumanMessage(content=\"Relevant knowledge: \" + relevant_knowledge)\n",
    "    ]\n",
    "    response = chat_model.invoke(messages)\n",
    "    return response.content\n",
    "\n",
    "response = generate_response(ticket_string, relevant_knowledge[0])\n",
    "print(response)"
   ]
  },
  {
   "cell_type": "code",
   "execution_count": 66,
   "metadata": {},
   "outputs": [
    {
     "name": "stdout",
     "output_type": "stream",
     "text": [
      "Based on the ticket description, I'll provide step-by-step troubleshooting to help resolve the auto assignment issue.\n",
      "\n",
      "**Step 1: Verify System Status**\n",
      "Check the system status to ensure there are no ongoing outages or maintenance in the assignment system. You can try checking the system's status page or contacting the system administrator to confirm that everything is operating smoothly.\n",
      "\n",
      "**Step 2: Check Queue Configuration**\n",
      "Verify that your queue is properly configured and there are no conflicting filters. Make sure that:\n",
      "\n",
      "* Your queue is enabled and not set to \"Hidden\"\n",
      "* There are no duplicate or conflicting queues\n",
      "* The filter criteria (e.g., job type, location) are correct\n",
      "\n",
      "**Step 3: Manually Refresh Status**\n",
      " Toggle your availability off and on again to refresh your status in the system. This will help you check if the issue is related to a temporary system glitch.\n",
      "\n",
      "**Additional Steps**\n",
      "\n",
      "* If none of the above steps resolve the issue, it's possible that there's a technical issue with the assignment system. You can try:\n",
      "\t+ Contacting the system administrator for further investigation and assistance.\n",
      "\t+ Reaching out to our support team to report the issue and request their help in resolving it.\n",
      "\n",
      "Please let me know if these steps help resolve the issue or if you need further assistance.\n"
     ]
    }
   ],
   "source": [
    "def solve_ticket(ticket_index):\n",
    "    vectorstore = load_knowledge_base()\n",
    "    \n",
    "    ticket = get_ticket(ticket_index)\n",
    "    ticket_string = stringify_ticket(ticket)\n",
    "\n",
    "    relevant_knowledge = find_relevant_knowledge(ticket_string, vectorstore)\n",
    "    response = generate_response(ticket_string, relevant_knowledge[0])\n",
    "\n",
    "    return response\n",
    "\n",
    "print(solve_ticket(0))"
   ]
  },
  {
   "cell_type": "code",
   "execution_count": null,
   "metadata": {},
   "outputs": [],
   "source": []
  }
 ],
 "metadata": {
  "kernelspec": {
   "display_name": "base",
   "language": "python",
   "name": "python3"
  },
  "language_info": {
   "codemirror_mode": {
    "name": "ipython",
    "version": 3
   },
   "file_extension": ".py",
   "mimetype": "text/x-python",
   "name": "python",
   "nbconvert_exporter": "python",
   "pygments_lexer": "ipython3",
   "version": "3.11.5"
  }
 },
 "nbformat": 4,
 "nbformat_minor": 2
}
