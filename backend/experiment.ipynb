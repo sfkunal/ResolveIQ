{
 "cells": [
  {
   "cell_type": "code",
   "execution_count": 1,
   "metadata": {},
   "outputs": [
    {
     "name": "stdout",
     "output_type": "stream",
     "text": [
      "{'tickets': [{'title': 'Auto Assignment Not Working', 'author': 'Sarah Chen', 'time': '2025-02-06T09:23:15Z', 'status': 'Open', 'description': \"I haven't received any auto assignments for the past 2 hours. I've checked my status and I'm set as 'Available'. My queue is empty but I know there are cases in the general pool. Please help troubleshoot why I'm not getting assignments.\"}, {'title': 'Request to Block Cases from Specific Region', 'author': 'Michael Rodriguez', 'time': '2025-02-06T10:45:32Z', 'status': 'In Progress', 'description': \"I need to stop receiving cases from the APAC region as I don't have the language capabilities to handle them effectively. Is there a way to update my assignment rules to exclude these cases?\"}, {'title': 'Time Zone Update Required', 'author': 'Emma Thompson', 'time': '2025-02-06T08:15:00Z', 'status': 'Resolved', 'description': 'I recently relocated to the EST time zone, but my working hours are still showing in PST. Need assistance updating my profile to reflect the correct time zone so my availability is properly tracked.'}]}\n"
     ]
    }
   ],
   "source": [
    "import json\n",
    "\n",
    "with open('support_tickets.json', 'r') as file:\n",
    "    data = json.load(file)\n",
    "\n",
    "print(data)"
   ]
  },
  {
   "cell_type": "code",
   "execution_count": 2,
   "metadata": {},
   "outputs": [
    {
     "data": {
      "text/plain": [
       "{'tickets': [{'title': 'Auto Assignment Not Working',\n",
       "   'author': 'Sarah Chen',\n",
       "   'time': '2025-02-06T09:23:15Z',\n",
       "   'status': 'Open',\n",
       "   'description': \"I haven't received any auto assignments for the past 2 hours. I've checked my status and I'm set as 'Available'. My queue is empty but I know there are cases in the general pool. Please help troubleshoot why I'm not getting assignments.\"},\n",
       "  {'title': 'Request to Block Cases from Specific Region',\n",
       "   'author': 'Michael Rodriguez',\n",
       "   'time': '2025-02-06T10:45:32Z',\n",
       "   'status': 'In Progress',\n",
       "   'description': \"I need to stop receiving cases from the APAC region as I don't have the language capabilities to handle them effectively. Is there a way to update my assignment rules to exclude these cases?\"},\n",
       "  {'title': 'Time Zone Update Required',\n",
       "   'author': 'Emma Thompson',\n",
       "   'time': '2025-02-06T08:15:00Z',\n",
       "   'status': 'Resolved',\n",
       "   'description': 'I recently relocated to the EST time zone, but my working hours are still showing in PST. Need assistance updating my profile to reflect the correct time zone so my availability is properly tracked.'}]}"
      ]
     },
     "execution_count": 2,
     "metadata": {},
     "output_type": "execute_result"
    }
   ],
   "source": [
    "import json\n",
    "\n",
    "def get_tickets():\n",
    "    with open('support_tickets.json', 'r') as file:\n",
    "        data = json.load(file)\n",
    "    return data\n",
    "\n",
    "get_tickets()"
   ]
  },
  {
   "cell_type": "code",
   "execution_count": 6,
   "metadata": {},
   "outputs": [
    {
     "name": "stdout",
     "output_type": "stream",
     "text": [
      "The capital of France is Paris.\n"
     ]
    }
   ],
   "source": [
    "from langchain_community.llms import Ollama\n",
    "\n",
    "llm = Ollama(model=\"llama3.2:1b\")\n",
    "\n",
    "response = llm.invoke(\"What is the capital of France?\")\n",
    "print(response)\n"
   ]
  },
  {
   "cell_type": "code",
   "execution_count": 8,
   "metadata": {},
   "outputs": [
    {
     "name": "stdout",
     "output_type": "stream",
     "text": [
      "A programmer walked into a library and asked the librarian, \"Do you have any books on Pavlov's dogs and Schrödinger's cat?\" The librarian replied, \"It rings a bell, but I'm not sure if it's here or not.\"\n"
     ]
    }
   ],
   "source": [
    "from langchain_community.chat_models import ChatOllama\n",
    "from langchain_core.messages import HumanMessage, SystemMessage\n",
    "\n",
    "chat_model = ChatOllama(model=\"llama3.2:1b\")\n",
    "\n",
    "messages = [\n",
    "    SystemMessage(content=\"You are a helpful AI assistant.\"),\n",
    "    HumanMessage(content=\"Tell me a short joke about programming.\")\n",
    "]\n",
    "\n",
    "response = chat_model.invoke(messages)\n",
    "print(response.content)"
   ]
  },
  {
   "cell_type": "code",
   "execution_count": null,
   "metadata": {},
   "outputs": [],
   "source": []
  }
 ],
 "metadata": {
  "kernelspec": {
   "display_name": "base",
   "language": "python",
   "name": "python3"
  },
  "language_info": {
   "codemirror_mode": {
    "name": "ipython",
    "version": 3
   },
   "file_extension": ".py",
   "mimetype": "text/x-python",
   "name": "python",
   "nbconvert_exporter": "python",
   "pygments_lexer": "ipython3",
   "version": "3.11.5"
  }
 },
 "nbformat": 4,
 "nbformat_minor": 2
}
